{
 "cells": [
  {
   "cell_type": "code",
   "execution_count": 2,
   "id": "808f179e",
   "metadata": {},
   "outputs": [
    {
     "name": "stdout",
     "output_type": "stream",
     "text": [
      "1/1 [==============================] - 2s 2s/step\n",
      "unacceptable\n"
     ]
    }
   ],
   "source": [
    "from tensorflow.keras.preprocessing import image\n",
    "import numpy as np\n",
    "from tensorflow.keras.models import load_model\n",
    "\n",
    "img = \"ubd6_noise2_medium.jpg\"\n",
    "# load model\n",
    "model = load_model('mobilenetV2_original.h5')\n",
    "img=image.load_img(img,target_size=(224,224))\n",
    "#img = tf.keras.utils.load_img(image_path, target_size=(224,224))\n",
    "img = np.array(img)\n",
    "img = img / 255.0\n",
    "img = img.reshape(1,224,224,3)\n",
    "label = model.predict(img)\n",
    "# print(\"Predicted score\",label)\n",
    "#print(\"Predicted Clas, ls (0 - Cars , 1- Planes): \", label[1][1])\n",
    "p=np.argmax(label)\n",
    "if p==0:\n",
    "    print(\"acceptable\")\n",
    "elif p==1:\n",
    "    print(\"marginal\")  \n",
    "else:\n",
    "    print(\"unacceptable\")\n"
   ]
  },
  {
   "cell_type": "code",
   "execution_count": null,
   "id": "cc8dcc1d",
   "metadata": {},
   "outputs": [
    {
     "name": "stdout",
     "output_type": "stream",
     "text": [
      " * Serving Flask app '__main__'\n",
      " * Debug mode: off\n"
     ]
    },
    {
     "name": "stderr",
     "output_type": "stream",
     "text": [
      "WARNING: This is a development server. Do not use it in a production deployment. Use a production WSGI server instead.\n",
      " * Running on http://127.0.0.1:5000\n",
      "Press CTRL+C to quit\n"
     ]
    },
    {
     "name": "stdout",
     "output_type": "stream",
     "text": [
      "ImmutableMultiDict([('myfile', <FileStorage: 'abd2_shear9.jpg' ('image/jpeg')>)])\n",
      "<FileStorage: 'abd2_shear9.jpg' ('image/jpeg')>\n",
      "1/1 [==============================] - 2s 2s/step\n"
     ]
    },
    {
     "name": "stderr",
     "output_type": "stream",
     "text": [
      "127.0.0.1 - - [13/Dec/2022 22:24:59] \"POST / HTTP/1.1\" 200 -\n"
     ]
    },
    {
     "name": "stdout",
     "output_type": "stream",
     "text": [
      "ImmutableMultiDict([('myfile', <FileStorage: 'mbd17_shift5_medium.jpg' ('image/jpeg')>)])\n",
      "<FileStorage: 'mbd17_shift5_medium.jpg' ('image/jpeg')>\n",
      "1/1 [==============================] - 3s 3s/step\n"
     ]
    },
    {
     "name": "stderr",
     "output_type": "stream",
     "text": [
      "127.0.0.1 - - [13/Dec/2022 22:25:30] \"POST / HTTP/1.1\" 200 -\n"
     ]
    }
   ],
   "source": [
    "from flask import Flask, flash, request, redirect, url_for, jsonify, send_file, make_response\n",
    "from flask_cors import CORS, cross_origin\n",
    "import numpy as np\n",
    "import urllib\n",
    "from tensorflow.keras.preprocessing import image\n",
    "import numpy as np\n",
    "from tensorflow.keras.models import load_model\n",
    "from PIL import Image\n",
    "import cv2\n",
    "\n",
    "app = Flask(__name__)\n",
    "CORS(app, support_credentials=True)\n",
    "app.config['CORS_HEADERS'] = 'Content-Type'\n",
    "\n",
    "@app.route('/', methods=['GET', 'POST'])\n",
    "@cross_origin(supports_credentials=True)\n",
    "def upload_file():\n",
    "    if request.method == 'POST':\n",
    "#         file = request.get_json()\n",
    "        print(request.files)\n",
    "        print(request.files[\"myfile\"])\n",
    "        if 'myfile' not in request.files:\n",
    "            return \"no file found\"\n",
    "        else:\n",
    "#             print(dir(request))\n",
    "#             print(request.get_data())\n",
    "#             file = request.files.get(\"myfile\")\n",
    "#             print(file)\n",
    "#             f = urllib.request.urlopen(file)\n",
    "            a = request.files[\"myfile\"]\n",
    "            pil_image = Image.open(a)\n",
    "            pix = np.array(pil_image)\n",
    "            img = cv2.resize(pix, (224, 224))\n",
    "            model = load_model('mobilenetV2_original.h5')\n",
    "#             img=image.load_img(pil_image, target_size=(224,224))\n",
    "            #img = tf.keras.utils.load_img(image_path, target_size=(224,224))\n",
    "            img = np.array(img)\n",
    "            img = img / 255.0\n",
    "            img = img.reshape(1,224,224,3)\n",
    "            label = model.predict(img)\n",
    "            # print(\"Predicted score\",label)\n",
    "            #print(\"Predicted Clas, ls (0 - Cars , 1- Planes): \", label[1][1])\n",
    "            p=np.argmax(label)\n",
    "            if p==0:\n",
    "                return \"acceptable\" \n",
    "            elif p==1:\n",
    "                return \"marginal\" \n",
    "            else:\n",
    "                return \"unacceptable\"\n",
    "        \n",
    "\n",
    "app.run(debug=False)"
   ]
  },
  {
   "cell_type": "code",
   "execution_count": null,
   "id": "83b1344e",
   "metadata": {},
   "outputs": [],
   "source": []
  }
 ],
 "metadata": {
  "kernelspec": {
   "display_name": "Urdu_Ocr_NCL",
   "language": "python",
   "name": "urdu_ocr_ncl"
  },
  "language_info": {
   "codemirror_mode": {
    "name": "ipython",
    "version": 3
   },
   "file_extension": ".py",
   "mimetype": "text/x-python",
   "name": "python",
   "nbconvert_exporter": "python",
   "pygments_lexer": "ipython3",
   "version": "3.8.10"
  }
 },
 "nbformat": 4,
 "nbformat_minor": 5
}
